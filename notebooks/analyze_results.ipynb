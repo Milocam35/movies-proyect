{
 "cells": [
  {
   "cell_type": "markdown",
   "metadata": {},
   "source": [
    "### **Instalacion de API de kaggle de 50k reviews de peliculas**"
   ]
  },
  {
   "cell_type": "code",
   "execution_count": 23,
   "metadata": {},
   "outputs": [],
   "source": [
    "import numpy as np # linear algebra\n",
    "import pandas as pd # data processing, CSV file I/O (e.g. pd.read_csv)"
   ]
  },
  {
   "cell_type": "code",
   "execution_count": 24,
   "metadata": {},
   "outputs": [
    {
     "name": "stdout",
     "output_type": "stream",
     "text": [
      "Dataset URL: https://www.kaggle.com/datasets/lakshmi25npathi/imdb-dataset-of-50k-movie-reviews\n",
      "Carpetas dentro de raw_data: []\n",
      "No se encontró ninguna carpeta en raw_data\n"
     ]
    }
   ],
   "source": [
    "#Authenticate with kaggle API\n",
    "import os\n",
    "import kaggle\n",
    "import shutil\n",
    "\n",
    "def download_and_extract_kaggle_dataset():\n",
    "    dataset_name = 'lakshmi25npathi/imdb-dataset-of-50k-movie-reviews'\n",
    "    download_path = r'C:\\Proyectos\\movies-proyect\\data\\raw_data'\n",
    "\n",
    "    # Descargar y descomprimir el dataset\n",
    "    kaggle.api.authenticate()\n",
    "    kaggle.api.dataset_download_files(dataset_name, path=download_path, unzip=True)\n",
    "    kaggle.api.dataset_metadata(dataset_name, path=download_path)\n",
    "\n",
    "    # Listar las carpetas dentro de `raw_data`\n",
    "    directories = [d for d in os.listdir(download_path) if os.path.isdir(os.path.join(download_path, d))]\n",
    "    print(\"Carpetas dentro de raw_data:\", directories)\n",
    "\n",
    "    # Si hay una sola carpeta creada, la usamos\n",
    "    if directories:\n",
    "        dataset_dir = os.path.join(download_path, directories[0])\n",
    "        print(f\"Usando la carpeta: {dataset_dir}\")\n",
    "        \n",
    "        # Mover los archivos a `raw_data`\n",
    "        for filename in os.listdir(dataset_dir):\n",
    "            shutil.move(os.path.join(dataset_dir, filename), download_path)\n",
    "\n",
    "        # Eliminar la carpeta vacía\n",
    "        shutil.rmtree(dataset_dir)\n",
    "    else:\n",
    "        print(\"No se encontró ninguna carpeta en raw_data\")\n",
    "\n",
    "if __name__ == \"__main__\":\n",
    "    download_and_extract_kaggle_dataset()\n"
   ]
  },
  {
   "cell_type": "code",
   "execution_count": 27,
   "metadata": {},
   "outputs": [],
   "source": [
    "#descargar csv del dataset instalado\n",
    "temp_df = pd.read_csv(r'C:\\Proyectos\\movies-proyect\\data\\raw_data\\IMDB Dataset.csv')"
   ]
  },
  {
   "cell_type": "markdown",
   "metadata": {},
   "source": []
  }
 ],
 "metadata": {
  "kernelspec": {
   "display_name": "ML-Movies",
   "language": "python",
   "name": "python3"
  },
  "language_info": {
   "codemirror_mode": {
    "name": "ipython",
    "version": 3
   },
   "file_extension": ".py",
   "mimetype": "text/x-python",
   "name": "python",
   "nbconvert_exporter": "python",
   "pygments_lexer": "ipython3",
   "version": "3.12.5"
  }
 },
 "nbformat": 4,
 "nbformat_minor": 2
}
