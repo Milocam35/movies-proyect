{
 "cells": [
  {
   "cell_type": "markdown",
   "metadata": {},
   "source": [
    "# **NLP (Natural Language Processing) Proyecto para ML-OPS**"
   ]
  },
  {
   "cell_type": "markdown",
   "metadata": {},
   "source": [
    "### 1.1 **Instalacion de API de kaggle de 50k reviews de peliculas**"
   ]
  },
  {
   "cell_type": "code",
   "execution_count": 142,
   "metadata": {},
   "outputs": [],
   "source": [
    "import numpy as np # linear algebra\n",
    "import pandas as pd # data processing, CSV file I/O (e.g. pd.read_csv)\n",
    "from matplotlib import  pyplot as plt # plotting\n"
   ]
  },
  {
   "cell_type": "code",
   "execution_count": 143,
   "metadata": {},
   "outputs": [
    {
     "name": "stdout",
     "output_type": "stream",
     "text": [
      "Dataset URL: https://www.kaggle.com/datasets/lakshmi25npathi/imdb-dataset-of-50k-movie-reviews\n",
      "No se encontró ninguna carpeta en raw_data\n"
     ]
    }
   ],
   "source": [
    "#Authenticate with kaggle API\n",
    "import os\n",
    "import kaggle\n",
    "import shutil\n",
    "\n",
    "def download_and_extract_kaggle_dataset():\n",
    "    dataset_name = 'lakshmi25npathi/imdb-dataset-of-50k-movie-reviews'\n",
    "    download_path = r'C:\\Proyectos\\movies-proyect\\data\\raw_data'\n",
    "\n",
    "    # Descargar y descomprimir el dataset\n",
    "    kaggle.api.authenticate()\n",
    "    kaggle.api.dataset_download_files(dataset_name, path=download_path, unzip=True)\n",
    "    kaggle.api.dataset_metadata(dataset_name, path=download_path)\n",
    "\n",
    "    # Listar las carpetas dentro de `raw_data`\n",
    "    directories = [d for d in os.listdir(download_path) if os.path.isdir(os.path.join(download_path, d))]\n",
    "\n",
    "    # Si hay una sola carpeta creada, la usamos\n",
    "    if directories:\n",
    "        dataset_dir = os.path.join(download_path, directories[0])\n",
    "        \n",
    "        # Mover los archivos a `raw_data`\n",
    "        for filename in os.listdir(dataset_dir):\n",
    "            shutil.move(os.path.join(dataset_dir, filename), download_path)\n",
    "\n",
    "        # Eliminar la carpeta vacía\n",
    "        shutil.rmtree(dataset_dir)\n",
    "    else:\n",
    "        print(\"No se encontró ninguna carpeta en raw_data\")\n",
    "\n",
    "if __name__ == \"__main__\":\n",
    "    download_and_extract_kaggle_dataset()\n"
   ]
  },
  {
   "cell_type": "code",
   "execution_count": 144,
   "metadata": {},
   "outputs": [
    {
     "data": {
      "text/html": [
       "<div>\n",
       "<style scoped>\n",
       "    .dataframe tbody tr th:only-of-type {\n",
       "        vertical-align: middle;\n",
       "    }\n",
       "\n",
       "    .dataframe tbody tr th {\n",
       "        vertical-align: top;\n",
       "    }\n",
       "\n",
       "    .dataframe thead th {\n",
       "        text-align: right;\n",
       "    }\n",
       "</style>\n",
       "<table border=\"1\" class=\"dataframe\">\n",
       "  <thead>\n",
       "    <tr style=\"text-align: right;\">\n",
       "      <th></th>\n",
       "      <th>review</th>\n",
       "      <th>sentiment</th>\n",
       "    </tr>\n",
       "  </thead>\n",
       "  <tbody>\n",
       "    <tr>\n",
       "      <th>0</th>\n",
       "      <td>One of the other reviewers has mentioned that ...</td>\n",
       "      <td>positive</td>\n",
       "    </tr>\n",
       "    <tr>\n",
       "      <th>1</th>\n",
       "      <td>A wonderful little production. &lt;br /&gt;&lt;br /&gt;The...</td>\n",
       "      <td>positive</td>\n",
       "    </tr>\n",
       "    <tr>\n",
       "      <th>2</th>\n",
       "      <td>I thought this was a wonderful way to spend ti...</td>\n",
       "      <td>positive</td>\n",
       "    </tr>\n",
       "    <tr>\n",
       "      <th>3</th>\n",
       "      <td>Basically there's a family where a little boy ...</td>\n",
       "      <td>negative</td>\n",
       "    </tr>\n",
       "    <tr>\n",
       "      <th>4</th>\n",
       "      <td>Petter Mattei's \"Love in the Time of Money\" is...</td>\n",
       "      <td>positive</td>\n",
       "    </tr>\n",
       "  </tbody>\n",
       "</table>\n",
       "</div>"
      ],
      "text/plain": [
       "                                              review sentiment\n",
       "0  One of the other reviewers has mentioned that ...  positive\n",
       "1  A wonderful little production. <br /><br />The...  positive\n",
       "2  I thought this was a wonderful way to spend ti...  positive\n",
       "3  Basically there's a family where a little boy ...  negative\n",
       "4  Petter Mattei's \"Love in the Time of Money\" is...  positive"
      ]
     },
     "execution_count": 144,
     "metadata": {},
     "output_type": "execute_result"
    }
   ],
   "source": [
    "#descargar csv del dataset instalado\n",
    "df = pd.read_csv(r'C:\\Proyectos\\movies-proyect\\data\\raw_data\\IMDB Dataset.csv')\n",
    "df = df.iloc[:15000]\n",
    "df.head()"
   ]
  },
  {
   "cell_type": "code",
   "execution_count": 145,
   "metadata": {},
   "outputs": [
    {
     "data": {
      "text/plain": [
       "(15000, 2)"
      ]
     },
     "execution_count": 145,
     "metadata": {},
     "output_type": "execute_result"
    }
   ],
   "source": [
    "#asegurarnos de el tamaño del dataset, en este caso debe ser de 50000 filas x 2 columnas\n",
    "df.shape"
   ]
  },
  {
   "cell_type": "code",
   "execution_count": 146,
   "metadata": {},
   "outputs": [
    {
     "data": {
      "image/png": "[encoded data removed]",
      "text/plain": [
       "<Figure size 640x480 with 1 Axes>"
      ]
     },
     "metadata": {},
     "output_type": "display_data"
    },
    {
     "data": {
      "text/plain": [
       "sentiment\n",
       "negative    7609\n",
       "positive    7391\n",
       "Name: count, dtype: int64"
      ]
     },
     "execution_count": 146,
     "metadata": {},
     "output_type": "execute_result"
    }
   ],
   "source": [
    "#Visualizacion de distribucion de las clases\n",
    "etiquetas_clases = {0: 'positive', 1: 'negative'}\n",
    "\n",
    "df['sentiment'].value_counts().rename(index=etiquetas_clases).plot(kind='bar')\n",
    "plt.xlabel('Clase')\n",
    "plt.ylabel('Cantidad')\n",
    "plt.title('Conteo de Clases')\n",
    "plt.show()\n",
    "df['sentiment'].value_counts()"
   ]
  },
  {
   "cell_type": "markdown",
   "metadata": {},
   "source": [
    "### 1.2 **Preprocesamiento de texto**\n",
    "\n",
    "El preprocesamiento es crucial para limpiar y normalizar los datos de texto antes del análisis. Este paso implica varias subtareas:\n",
    "\n",
    "- Tokenización: Dividir el texto en palabras individuales o tokens. Por ejemplo, «¡Hola mundo!» se convierte en - -[«Hola», «mundo», «!»].\n",
    "- Minúsculas: Conversión de todos los caracteres a minúsculas para garantizar la uniformidad (por ejemplo, «Hola» y «hola» reciben el mismo tratamiento).\n",
    "\n",
    "- Eliminación de signos de puntuación: Eliminación de los signos de puntuación, ya que a menudo no contribuyen al significado.\n",
    "Eliminación de palabras vacías: Eliminación de palabras comunes como «y», «el», «es», que no aportan un significado significativo.\n",
    "\n",
    "- Lematización: Conversión de palabras a su forma básica o raíz (por ejemplo, «correr» se convierte en «correr»).\n",
    "Reducción: Similar a la lematización, pero suele ser más agresiva. Reduce las palabras a su raíz (por ejemplo, «running» se convierte en «run», «runner» en «run»).\n",
    "\n",
    "Traducción realizada con la versión gratuita del traductor DeepL.com"
   ]
  },
  {
   "cell_type": "markdown",
   "metadata": {},
   "source": [
    "### 1.2 **Remover palabras duplicadas**"
   ]
  },
  {
   "cell_type": "code",
   "execution_count": 147,
   "metadata": {},
   "outputs": [
    {
     "data": {
      "text/plain": [
       "39"
      ]
     },
     "execution_count": 147,
     "metadata": {},
     "output_type": "execute_result"
    }
   ],
   "source": [
    "df.duplicated().sum()"
   ]
  },
  {
   "cell_type": "code",
   "execution_count": 148,
   "metadata": {},
   "outputs": [],
   "source": [
    "df.drop_duplicates(inplace=True)"
   ]
  },
  {
   "cell_type": "markdown",
   "metadata": {},
   "source": [
    "### 1.2.1 **Minusculas**"
   ]
  },
  {
   "cell_type": "code",
   "execution_count": 149,
   "metadata": {},
   "outputs": [
    {
     "data": {
      "text/html": [
       "<div>\n",
       "<style scoped>\n",
       "    .dataframe tbody tr th:only-of-type {\n",
       "        vertical-align: middle;\n",
       "    }\n",
       "\n",
       "    .dataframe tbody tr th {\n",
       "        vertical-align: top;\n",
       "    }\n",
       "\n",
       "    .dataframe thead th {\n",
       "        text-align: right;\n",
       "    }\n",
       "</style>\n",
       "<table border=\"1\" class=\"dataframe\">\n",
       "  <thead>\n",
       "    <tr style=\"text-align: right;\">\n",
       "      <th></th>\n",
       "      <th>review</th>\n",
       "      <th>sentiment</th>\n",
       "    </tr>\n",
       "  </thead>\n",
       "  <tbody>\n",
       "    <tr>\n",
       "      <th>0</th>\n",
       "      <td>one of the other reviewers has mentioned that ...</td>\n",
       "      <td>positive</td>\n",
       "    </tr>\n",
       "    <tr>\n",
       "      <th>1</th>\n",
       "      <td>a wonderful little production. &lt;br /&gt;&lt;br /&gt;the...</td>\n",
       "      <td>positive</td>\n",
       "    </tr>\n",
       "    <tr>\n",
       "      <th>2</th>\n",
       "      <td>i thought this was a wonderful way to spend ti...</td>\n",
       "      <td>positive</td>\n",
       "    </tr>\n",
       "    <tr>\n",
       "      <th>3</th>\n",
       "      <td>basically there's a family where a little boy ...</td>\n",
       "      <td>negative</td>\n",
       "    </tr>\n",
       "    <tr>\n",
       "      <th>4</th>\n",
       "      <td>petter mattei's \"love in the time of money\" is...</td>\n",
       "      <td>positive</td>\n",
       "    </tr>\n",
       "  </tbody>\n",
       "</table>\n",
       "</div>"
      ],
      "text/plain": [
       "                                              review sentiment\n",
       "0  one of the other reviewers has mentioned that ...  positive\n",
       "1  a wonderful little production. <br /><br />the...  positive\n",
       "2  i thought this was a wonderful way to spend ti...  positive\n",
       "3  basically there's a family where a little boy ...  negative\n",
       "4  petter mattei's \"love in the time of money\" is...  positive"
      ]
     },
     "execution_count": 149,
     "metadata": {},
     "output_type": "execute_result"
    }
   ],
   "source": [
    "#usar funcion .lower de python para pasar todas las palabras a mayusculas en el dataset\n",
    "df['review'] = df['review'].str.lower()\n",
    "df.head()"
   ]
  },
  {
   "cell_type": "markdown",
   "metadata": {},
   "source": [
    "### 1.2.2 **Remover cualquier etiquetas html del dataset**"
   ]
  },
  {
   "cell_type": "code",
   "execution_count": 150,
   "metadata": {},
   "outputs": [],
   "source": [
    "#Importamos libreria para expresiones regulares\n",
    "import re\n",
    "\n",
    "#Funcion para remover etiqueta con expresion regular\n",
    "def remove_html_tags(text):\n",
    "    pattern = re.compile('<.*?>')\n",
    "    return pattern.sub('', text)"
   ]
  },
  {
   "cell_type": "code",
   "execution_count": 151,
   "metadata": {},
   "outputs": [
    {
     "data": {
      "text/html": [
       "<div>\n",
       "<style scoped>\n",
       "    .dataframe tbody tr th:only-of-type {\n",
       "        vertical-align: middle;\n",
       "    }\n",
       "\n",
       "    .dataframe tbody tr th {\n",
       "        vertical-align: top;\n",
       "    }\n",
       "\n",
       "    .dataframe thead th {\n",
       "        text-align: right;\n",
       "    }\n",
       "</style>\n",
       "<table border=\"1\" class=\"dataframe\">\n",
       "  <thead>\n",
       "    <tr style=\"text-align: right;\">\n",
       "      <th></th>\n",
       "      <th>review</th>\n",
       "      <th>sentiment</th>\n",
       "    </tr>\n",
       "  </thead>\n",
       "  <tbody>\n",
       "    <tr>\n",
       "      <th>0</th>\n",
       "      <td>one of the other reviewers has mentioned that ...</td>\n",
       "      <td>positive</td>\n",
       "    </tr>\n",
       "    <tr>\n",
       "      <th>1</th>\n",
       "      <td>a wonderful little production. the filming tec...</td>\n",
       "      <td>positive</td>\n",
       "    </tr>\n",
       "    <tr>\n",
       "      <th>2</th>\n",
       "      <td>i thought this was a wonderful way to spend ti...</td>\n",
       "      <td>positive</td>\n",
       "    </tr>\n",
       "    <tr>\n",
       "      <th>3</th>\n",
       "      <td>basically there's a family where a little boy ...</td>\n",
       "      <td>negative</td>\n",
       "    </tr>\n",
       "    <tr>\n",
       "      <th>4</th>\n",
       "      <td>petter mattei's \"love in the time of money\" is...</td>\n",
       "      <td>positive</td>\n",
       "    </tr>\n",
       "  </tbody>\n",
       "</table>\n",
       "</div>"
      ],
      "text/plain": [
       "                                              review sentiment\n",
       "0  one of the other reviewers has mentioned that ...  positive\n",
       "1  a wonderful little production. the filming tec...  positive\n",
       "2  i thought this was a wonderful way to spend ti...  positive\n",
       "3  basically there's a family where a little boy ...  negative\n",
       "4  petter mattei's \"love in the time of money\" is...  positive"
      ]
     },
     "execution_count": 151,
     "metadata": {},
     "output_type": "execute_result"
    }
   ],
   "source": [
    "df['review']=df['review'].apply(remove_html_tags)\n",
    "df.head()"
   ]
  },
  {
   "cell_type": "markdown",
   "metadata": {},
   "source": [
    "### 1.2.3 **Remover URLS**"
   ]
  },
  {
   "cell_type": "code",
   "execution_count": 152,
   "metadata": {},
   "outputs": [],
   "source": [
    "#Funcion para recompilar con patrones las urls en el dataframe\n",
    "def remove_url(text):\n",
    "    pattern = re.compile(r'https?://\\S+|www\\.\\S+')\n",
    "    return pattern.sub(r'',text)"
   ]
  },
  {
   "cell_type": "code",
   "execution_count": 153,
   "metadata": {},
   "outputs": [
    {
     "data": {
      "text/html": [
       "<div>\n",
       "<style scoped>\n",
       "    .dataframe tbody tr th:only-of-type {\n",
       "        vertical-align: middle;\n",
       "    }\n",
       "\n",
       "    .dataframe tbody tr th {\n",
       "        vertical-align: top;\n",
       "    }\n",
       "\n",
       "    .dataframe thead th {\n",
       "        text-align: right;\n",
       "    }\n",
       "</style>\n",
       "<table border=\"1\" class=\"dataframe\">\n",
       "  <thead>\n",
       "    <tr style=\"text-align: right;\">\n",
       "      <th></th>\n",
       "      <th>review</th>\n",
       "      <th>sentiment</th>\n",
       "    </tr>\n",
       "  </thead>\n",
       "  <tbody>\n",
       "    <tr>\n",
       "      <th>0</th>\n",
       "      <td>one of the other reviewers has mentioned that ...</td>\n",
       "      <td>positive</td>\n",
       "    </tr>\n",
       "    <tr>\n",
       "      <th>1</th>\n",
       "      <td>a wonderful little production. the filming tec...</td>\n",
       "      <td>positive</td>\n",
       "    </tr>\n",
       "    <tr>\n",
       "      <th>2</th>\n",
       "      <td>i thought this was a wonderful way to spend ti...</td>\n",
       "      <td>positive</td>\n",
       "    </tr>\n",
       "    <tr>\n",
       "      <th>3</th>\n",
       "      <td>basically there's a family where a little boy ...</td>\n",
       "      <td>negative</td>\n",
       "    </tr>\n",
       "    <tr>\n",
       "      <th>4</th>\n",
       "      <td>petter mattei's \"love in the time of money\" is...</td>\n",
       "      <td>positive</td>\n",
       "    </tr>\n",
       "  </tbody>\n",
       "</table>\n",
       "</div>"
      ],
      "text/plain": [
       "                                              review sentiment\n",
       "0  one of the other reviewers has mentioned that ...  positive\n",
       "1  a wonderful little production. the filming tec...  positive\n",
       "2  i thought this was a wonderful way to spend ti...  positive\n",
       "3  basically there's a family where a little boy ...  negative\n",
       "4  petter mattei's \"love in the time of money\" is...  positive"
      ]
     },
     "execution_count": 153,
     "metadata": {},
     "output_type": "execute_result"
    }
   ],
   "source": [
    "df['review']=df['review'].apply(remove_url)\n",
    "df.head()"
   ]
  },
  {
   "cell_type": "markdown",
   "metadata": {},
   "source": [
    "### 1.2.4 **GenZ Lingo treatment (procesar jergas)**"
   ]
  },
  {
   "cell_type": "code",
   "execution_count": 154,
   "metadata": {},
   "outputs": [],
   "source": [
    "chat_word = {\n",
    "    'afaik': 'as far as i know',\n",
    "    'afk': 'away from keyboard',\n",
    "    'asap': 'as soon as possible',\n",
    "    'atk': 'at the keyboard',\n",
    "    'atm': 'at the moment',\n",
    "    'a3': 'anytime anywhere anyplace',\n",
    "    'bak': 'back at keyboard',\n",
    "    'bbl': 'be back later',\n",
    "    'bbs': 'be back soon',\n",
    "    'bfn': 'bye for now',\n",
    "    'b4n': 'bye for now',\n",
    "    'brb': 'be right back',\n",
    "    'brt': 'be right there',\n",
    "    'btw': 'by the way',\n",
    "    'b4': 'before',\n",
    "    'cu': 'see you',\n",
    "    'cul8r': 'see you later',\n",
    "    'cya': 'see you',\n",
    "    'faq': 'frequently asked questions',\n",
    "    'fc': 'fingers crossed',\n",
    "    'fwiw': \"for what its worth\",\n",
    "    'fyi': 'for your information',\n",
    "    'gal': 'get a life',\n",
    "    'gg': 'good game',\n",
    "    'gn': 'good night',\n",
    "    'gmta': 'great minds think alike',\n",
    "    'gr8': 'great',\n",
    "    'g9': 'genius',\n",
    "    'ic': 'i see',\n",
    "    'icq': 'i seek you',\n",
    "    'ilu': 'i love you',\n",
    "    'imho': 'in my honest humble opinion',\n",
    "    'imo': 'in my opinion',\n",
    "    'iow': 'in other words',\n",
    "    'irl': 'in real life',\n",
    "    'kiss': 'keep it simple stupid',\n",
    "    'ldr': 'long distance relationship',\n",
    "    'lmao': 'laugh my ass off',\n",
    "    'lol': 'laughing out loud',\n",
    "    'ltns': 'long time no see',\n",
    "    'l8r': 'later',\n",
    "    'mte': 'my thoughts exactly',\n",
    "    'm8': 'mate',\n",
    "    'nrn': 'no reply necessary',\n",
    "    'oic': 'oh i see',\n",
    "    'pita': 'pain in the ass',\n",
    "    'prt': 'party',\n",
    "    'prw': 'parents are watching',\n",
    "    'qpsa': 'que pasa',\n",
    "    'rofl': 'rolling on the floor laughing',\n",
    "    'rofllol': 'rolling on the floor laughing out loud',\n",
    "    'rotflmao': 'rolling on the floor laughing my ass off',\n",
    "    'sk8': 'skate',\n",
    "    'stats': 'your sex and age',\n",
    "    'asl': 'age sex location',\n",
    "    'thx': 'thank you',\n",
    "    'ttyl': 'talk to you later',\n",
    "    'u': 'you',\n",
    "    'u2': 'you too',\n",
    "    'u4e': 'yours for ever',\n",
    "    'wb': 'welcome back',\n",
    "    'wtf': 'what the fuck',\n",
    "    'wtg': 'way to go',\n",
    "    'wuf': 'where are you from',\n",
    "    'tfw': 'that feeling when',\n",
    "    'mfw': 'my face when',\n",
    "    'mrw': 'my reaction when',\n",
    "    'ifyp': 'i feel your pain',\n",
    "    'tntl': 'trying not to laugh',\n",
    "    'jk': 'just kidding',\n",
    "    'idc': \"i dont care\",\n",
    "    'ily': 'i love you',\n",
    "    'imu': 'i miss you',\n",
    "    'adih': 'another day in hell',\n",
    "    'zzz': 'sleeping bored tired',\n",
    "    'wywh': 'wish you were here',\n",
    "    'time': 'tears in my eyes',\n",
    "    'bae': 'before anyone else',\n",
    "    'fimh': 'forever in my heart',\n",
    "    'bsaaw': 'big smile and a wink',\n",
    "    'bwl': 'bursting with laughter',\n",
    "    'bff': 'best friends forever',\n",
    "    'csl': \"cant stop laughing\"\n",
    "}\n"
   ]
  },
  {
   "cell_type": "code",
   "execution_count": 155,
   "metadata": {},
   "outputs": [],
   "source": [
    "#Funcion para filtrar jergas \n",
    "def short_conv(text):\n",
    "    new_text = []\n",
    "    for w in text.split():\n",
    "        if w in chat_word:\n",
    "            new_text.append(chat_word[w])\n",
    "        else:\n",
    "            new_text.append(w)\n",
    "    return \" \".join(new_text)\n"
   ]
  },
  {
   "cell_type": "code",
   "execution_count": 156,
   "metadata": {},
   "outputs": [
    {
     "data": {
      "text/html": [
       "<div>\n",
       "<style scoped>\n",
       "    .dataframe tbody tr th:only-of-type {\n",
       "        vertical-align: middle;\n",
       "    }\n",
       "\n",
       "    .dataframe tbody tr th {\n",
       "        vertical-align: top;\n",
       "    }\n",
       "\n",
       "    .dataframe thead th {\n",
       "        text-align: right;\n",
       "    }\n",
       "</style>\n",
       "<table border=\"1\" class=\"dataframe\">\n",
       "  <thead>\n",
       "    <tr style=\"text-align: right;\">\n",
       "      <th></th>\n",
       "      <th>review</th>\n",
       "      <th>sentiment</th>\n",
       "    </tr>\n",
       "  </thead>\n",
       "  <tbody>\n",
       "    <tr>\n",
       "      <th>0</th>\n",
       "      <td>one of the other reviewers has mentioned that ...</td>\n",
       "      <td>positive</td>\n",
       "    </tr>\n",
       "    <tr>\n",
       "      <th>1</th>\n",
       "      <td>a wonderful little production. the filming tec...</td>\n",
       "      <td>positive</td>\n",
       "    </tr>\n",
       "    <tr>\n",
       "      <th>2</th>\n",
       "      <td>i thought this was a wonderful way to spend te...</td>\n",
       "      <td>positive</td>\n",
       "    </tr>\n",
       "    <tr>\n",
       "      <th>3</th>\n",
       "      <td>basically there's a family where a little boy ...</td>\n",
       "      <td>negative</td>\n",
       "    </tr>\n",
       "    <tr>\n",
       "      <th>4</th>\n",
       "      <td>petter mattei's \"love in the tears in my eyes ...</td>\n",
       "      <td>positive</td>\n",
       "    </tr>\n",
       "  </tbody>\n",
       "</table>\n",
       "</div>"
      ],
      "text/plain": [
       "                                              review sentiment\n",
       "0  one of the other reviewers has mentioned that ...  positive\n",
       "1  a wonderful little production. the filming tec...  positive\n",
       "2  i thought this was a wonderful way to spend te...  positive\n",
       "3  basically there's a family where a little boy ...  negative\n",
       "4  petter mattei's \"love in the tears in my eyes ...  positive"
      ]
     },
     "execution_count": 156,
     "metadata": {},
     "output_type": "execute_result"
    }
   ],
   "source": [
    "df['review']=df['review'].apply(short_conv)\n",
    "df.head()"
   ]
  },
  {
   "cell_type": "markdown",
   "metadata": {},
   "source": [
    "### 1.2.5.  **Removiendo palabras menores a 3**"
   ]
  },
  {
   "cell_type": "code",
   "execution_count": 157,
   "metadata": {},
   "outputs": [
    {
     "data": {
      "text/html": [
       "<div>\n",
       "<style scoped>\n",
       "    .dataframe tbody tr th:only-of-type {\n",
       "        vertical-align: middle;\n",
       "    }\n",
       "\n",
       "    .dataframe tbody tr th {\n",
       "        vertical-align: top;\n",
       "    }\n",
       "\n",
       "    .dataframe thead th {\n",
       "        text-align: right;\n",
       "    }\n",
       "</style>\n",
       "<table border=\"1\" class=\"dataframe\">\n",
       "  <thead>\n",
       "    <tr style=\"text-align: right;\">\n",
       "      <th></th>\n",
       "      <th>review</th>\n",
       "      <th>sentiment</th>\n",
       "    </tr>\n",
       "  </thead>\n",
       "  <tbody>\n",
       "    <tr>\n",
       "      <th>0</th>\n",
       "      <td>other reviewers mentioned that after watching ...</td>\n",
       "      <td>positive</td>\n",
       "    </tr>\n",
       "    <tr>\n",
       "      <th>1</th>\n",
       "      <td>wonderful little production. filming technique...</td>\n",
       "      <td>positive</td>\n",
       "    </tr>\n",
       "    <tr>\n",
       "      <th>2</th>\n",
       "      <td>thought this wonderful spend tears eyes summer...</td>\n",
       "      <td>positive</td>\n",
       "    </tr>\n",
       "    <tr>\n",
       "      <th>3</th>\n",
       "      <td>basically there's family where little (jake) t...</td>\n",
       "      <td>negative</td>\n",
       "    </tr>\n",
       "    <tr>\n",
       "      <th>4</th>\n",
       "      <td>petter mattei's \"love tears eyes money\" visual...</td>\n",
       "      <td>positive</td>\n",
       "    </tr>\n",
       "  </tbody>\n",
       "</table>\n",
       "</div>"
      ],
      "text/plain": [
       "                                              review sentiment\n",
       "0  other reviewers mentioned that after watching ...  positive\n",
       "1  wonderful little production. filming technique...  positive\n",
       "2  thought this wonderful spend tears eyes summer...  positive\n",
       "3  basically there's family where little (jake) t...  negative\n",
       "4  petter mattei's \"love tears eyes money\" visual...  positive"
      ]
     },
     "execution_count": 157,
     "metadata": {},
     "output_type": "execute_result"
    }
   ],
   "source": [
    "def filter_and_remove_short_words(df, column_name):\n",
    "    # Aplica el filtro para remover palabras con 3 o menos letras\n",
    "    df[column_name] = df[column_name].apply(lambda text: ' '.join([word for word in text.split() if len(word) >= 3]))\n",
    "    return df\n",
    "\n",
    "df = filter_and_remove_short_words(df, 'review')\n",
    "df.head()\n"
   ]
  },
  {
   "cell_type": "markdown",
   "metadata": {},
   "source": [
    "### 1.2.6.  **Removiendo Stop-Words**\n",
    "Las «stop words» son palabras comunes en una lengua que suelen eliminarse porque tienen poco peso semántico y pueden entorpecer el análisis. Se trata de artículos (por ejemplo, «a», «el»), conjunciones (por ejemplo, «y», «o»), preposiciones (por ejemplo, «en», «sobre») y otros términos frecuentes que no contribuyen significativamente al significado de una frase. \n",
    "\n",
    "Al eliminar las palabras vacías, la atención se centra en palabras más significativas que representan mejor el contenido del texto, lo que mejora la eficacia y la precisión del análisis de textos y los modelos de aprendizaje automático."
   ]
  },
  {
   "cell_type": "code",
   "execution_count": 158,
   "metadata": {},
   "outputs": [
    {
     "name": "stdout",
     "output_type": "stream",
     "text": [
      "ya tienes stopwords\n"
     ]
    }
   ],
   "source": [
    "import nltk\n",
    "from nltk.corpus import stopwords\n",
    "\n",
    "#Asegurarnos de que las stopwords estan instaladas, si no se descargaran automaticamente\n",
    "try:\n",
    "    stopwords.words('english')\n",
    "    print('ya tienes stopwords')\n",
    "\n",
    "except LookupError:\n",
    "    nltk.download('stopwords')\n",
    "    print('no tienes stopwords, \\n descargando stopwords')\n"
   ]
  },
  {
   "cell_type": "code",
   "execution_count": 159,
   "metadata": {},
   "outputs": [
    {
     "data": {
      "text/plain": [
       "['i',\n",
       " 'me',\n",
       " 'my',\n",
       " 'myself',\n",
       " 'we',\n",
       " 'our',\n",
       " 'ours',\n",
       " 'ourselves',\n",
       " 'you',\n",
       " \"you're\",\n",
       " \"you've\",\n",
       " \"you'll\",\n",
       " \"you'd\",\n",
       " 'your',\n",
       " 'yours',\n",
       " 'yourself',\n",
       " 'yourselves',\n",
       " 'he',\n",
       " 'him',\n",
       " 'his',\n",
       " 'himself',\n",
       " 'she',\n",
       " \"she's\",\n",
       " 'her',\n",
       " 'hers',\n",
       " 'herself',\n",
       " 'it',\n",
       " \"it's\",\n",
       " 'its',\n",
       " 'itself',\n",
       " 'they',\n",
       " 'them',\n",
       " 'their',\n",
       " 'theirs',\n",
       " 'themselves',\n",
       " 'what',\n",
       " 'which',\n",
       " 'who',\n",
       " 'whom',\n",
       " 'this',\n",
       " 'that',\n",
       " \"that'll\",\n",
       " 'these',\n",
       " 'those',\n",
       " 'am',\n",
       " 'is',\n",
       " 'are',\n",
       " 'was',\n",
       " 'were',\n",
       " 'be',\n",
       " 'been',\n",
       " 'being',\n",
       " 'have',\n",
       " 'has',\n",
       " 'had',\n",
       " 'having',\n",
       " 'do',\n",
       " 'does',\n",
       " 'did',\n",
       " 'doing',\n",
       " 'a',\n",
       " 'an',\n",
       " 'the',\n",
       " 'and',\n",
       " 'but',\n",
       " 'if',\n",
       " 'or',\n",
       " 'because',\n",
       " 'as',\n",
       " 'until',\n",
       " 'while',\n",
       " 'of',\n",
       " 'at',\n",
       " 'by',\n",
       " 'for',\n",
       " 'with',\n",
       " 'about',\n",
       " 'against',\n",
       " 'between',\n",
       " 'into',\n",
       " 'through',\n",
       " 'during',\n",
       " 'before',\n",
       " 'after',\n",
       " 'above',\n",
       " 'below',\n",
       " 'to',\n",
       " 'from',\n",
       " 'up',\n",
       " 'down',\n",
       " 'in',\n",
       " 'out',\n",
       " 'on',\n",
       " 'off',\n",
       " 'over',\n",
       " 'under',\n",
       " 'again',\n",
       " 'further',\n",
       " 'then',\n",
       " 'once',\n",
       " 'here',\n",
       " 'there',\n",
       " 'when',\n",
       " 'where',\n",
       " 'why',\n",
       " 'how',\n",
       " 'all',\n",
       " 'any',\n",
       " 'both',\n",
       " 'each',\n",
       " 'few',\n",
       " 'more',\n",
       " 'most',\n",
       " 'other',\n",
       " 'some',\n",
       " 'such',\n",
       " 'no',\n",
       " 'nor',\n",
       " 'not',\n",
       " 'only',\n",
       " 'own',\n",
       " 'same',\n",
       " 'so',\n",
       " 'than',\n",
       " 'too',\n",
       " 'very',\n",
       " 's',\n",
       " 't',\n",
       " 'can',\n",
       " 'will',\n",
       " 'just',\n",
       " 'don',\n",
       " \"don't\",\n",
       " 'should',\n",
       " \"should've\",\n",
       " 'now',\n",
       " 'd',\n",
       " 'll',\n",
       " 'm',\n",
       " 'o',\n",
       " 're',\n",
       " 've',\n",
       " 'y',\n",
       " 'ain',\n",
       " 'aren',\n",
       " \"aren't\",\n",
       " 'couldn',\n",
       " \"couldn't\",\n",
       " 'didn',\n",
       " \"didn't\",\n",
       " 'doesn',\n",
       " \"doesn't\",\n",
       " 'hadn',\n",
       " \"hadn't\",\n",
       " 'hasn',\n",
       " \"hasn't\",\n",
       " 'haven',\n",
       " \"haven't\",\n",
       " 'isn',\n",
       " \"isn't\",\n",
       " 'ma',\n",
       " 'mightn',\n",
       " \"mightn't\",\n",
       " 'mustn',\n",
       " \"mustn't\",\n",
       " 'needn',\n",
       " \"needn't\",\n",
       " 'shan',\n",
       " \"shan't\",\n",
       " 'shouldn',\n",
       " \"shouldn't\",\n",
       " 'wasn',\n",
       " \"wasn't\",\n",
       " 'weren',\n",
       " \"weren't\",\n",
       " 'won',\n",
       " \"won't\",\n",
       " 'wouldn',\n",
       " \"wouldn't\"]"
      ]
     },
     "execution_count": 159,
     "metadata": {},
     "output_type": "execute_result"
    }
   ],
   "source": [
    "stopwords.words(\"english\")"
   ]
  },
  {
   "cell_type": "code",
   "execution_count": 160,
   "metadata": {},
   "outputs": [
    {
     "data": {
      "text/plain": [
       "\"\\ndef remove_stopwords(text):\\n    stop_words = set(stopwords.words('english'))\\n    return ' '.join([word for word in text.split() if word.lower() not in stop_words]\\n\""
      ]
     },
     "execution_count": 160,
     "metadata": {},
     "output_type": "execute_result"
    }
   ],
   "source": [
    "#Funcion para remover las stopWords\n",
    "def remove_stopwords(text):\n",
    "    new_text=[]\n",
    "    for word in text.split():\n",
    "        if word in stopwords.words('english'):\n",
    "            new_text.append('')\n",
    "        else:\n",
    "            new_text.append(word)\n",
    "            \n",
    "    x=new_text[:]\n",
    "    new_text.clear()\n",
    "    return \" \".join(x)\n",
    "'''\n",
    "def remove_stopwords(text):\n",
    "    stop_words = set(stopwords.words('english'))\n",
    "    return ' '.join([word for word in text.split() if word.lower() not in stop_words]\n",
    "'''"
   ]
  },
  {
   "cell_type": "code",
   "execution_count": 161,
   "metadata": {},
   "outputs": [
    {
     "data": {
      "text/html": [
       "<div>\n",
       "<style scoped>\n",
       "    .dataframe tbody tr th:only-of-type {\n",
       "        vertical-align: middle;\n",
       "    }\n",
       "\n",
       "    .dataframe tbody tr th {\n",
       "        vertical-align: top;\n",
       "    }\n",
       "\n",
       "    .dataframe thead th {\n",
       "        text-align: right;\n",
       "    }\n",
       "</style>\n",
       "<table border=\"1\" class=\"dataframe\">\n",
       "  <thead>\n",
       "    <tr style=\"text-align: right;\">\n",
       "      <th></th>\n",
       "      <th>review</th>\n",
       "      <th>sentiment</th>\n",
       "    </tr>\n",
       "  </thead>\n",
       "  <tbody>\n",
       "    <tr>\n",
       "      <th>0</th>\n",
       "      <td>reviewers mentioned   watching  episode  hook...</td>\n",
       "      <td>positive</td>\n",
       "    </tr>\n",
       "    <tr>\n",
       "      <th>1</th>\n",
       "      <td>wonderful little production. filming technique...</td>\n",
       "      <td>positive</td>\n",
       "    </tr>\n",
       "    <tr>\n",
       "      <th>2</th>\n",
       "      <td>thought  wonderful spend tears eyes summer wee...</td>\n",
       "      <td>positive</td>\n",
       "    </tr>\n",
       "    <tr>\n",
       "      <th>3</th>\n",
       "      <td>basically there's family  little (jake) thinks...</td>\n",
       "      <td>negative</td>\n",
       "    </tr>\n",
       "    <tr>\n",
       "      <th>4</th>\n",
       "      <td>petter mattei's \"love tears eyes money\" visual...</td>\n",
       "      <td>positive</td>\n",
       "    </tr>\n",
       "  </tbody>\n",
       "</table>\n",
       "</div>"
      ],
      "text/plain": [
       "                                              review sentiment\n",
       "0   reviewers mentioned   watching  episode  hook...  positive\n",
       "1  wonderful little production. filming technique...  positive\n",
       "2  thought  wonderful spend tears eyes summer wee...  positive\n",
       "3  basically there's family  little (jake) thinks...  negative\n",
       "4  petter mattei's \"love tears eyes money\" visual...  positive"
      ]
     },
     "execution_count": 161,
     "metadata": {},
     "output_type": "execute_result"
    }
   ],
   "source": [
    "df['review'] = df['review'].apply(remove_stopwords)\n",
    "df.head()"
   ]
  },
  {
   "cell_type": "markdown",
   "metadata": {},
   "source": [
    "### 1.2.7 **Remover puntuación**"
   ]
  },
  {
   "cell_type": "code",
   "execution_count": 162,
   "metadata": {},
   "outputs": [],
   "source": [
    "import string\n",
    "\n",
    "exclude=string.punctuation\n",
    "#Funcion para remover la cualquier puntuacion en un texto '!\"#$%&\\'()*+,-./:;<=>?@[\\\\]^_`{|}~'\n",
    "def remove_punc(text):\n",
    "    for char in exclude:\n",
    "        text=text.replace(char,'')\n",
    "    return text"
   ]
  },
  {
   "cell_type": "code",
   "execution_count": 163,
   "metadata": {},
   "outputs": [
    {
     "data": {
      "text/html": [
       "<div>\n",
       "<style scoped>\n",
       "    .dataframe tbody tr th:only-of-type {\n",
       "        vertical-align: middle;\n",
       "    }\n",
       "\n",
       "    .dataframe tbody tr th {\n",
       "        vertical-align: top;\n",
       "    }\n",
       "\n",
       "    .dataframe thead th {\n",
       "        text-align: right;\n",
       "    }\n",
       "</style>\n",
       "<table border=\"1\" class=\"dataframe\">\n",
       "  <thead>\n",
       "    <tr style=\"text-align: right;\">\n",
       "      <th></th>\n",
       "      <th>review</th>\n",
       "      <th>sentiment</th>\n",
       "    </tr>\n",
       "  </thead>\n",
       "  <tbody>\n",
       "    <tr>\n",
       "      <th>0</th>\n",
       "      <td>reviewers mentioned   watching  episode  hook...</td>\n",
       "      <td>positive</td>\n",
       "    </tr>\n",
       "    <tr>\n",
       "      <th>1</th>\n",
       "      <td>wonderful little production filming technique ...</td>\n",
       "      <td>positive</td>\n",
       "    </tr>\n",
       "    <tr>\n",
       "      <th>2</th>\n",
       "      <td>thought  wonderful spend tears eyes summer wee...</td>\n",
       "      <td>positive</td>\n",
       "    </tr>\n",
       "    <tr>\n",
       "      <th>3</th>\n",
       "      <td>basically theres family  little jake thinks th...</td>\n",
       "      <td>negative</td>\n",
       "    </tr>\n",
       "    <tr>\n",
       "      <th>4</th>\n",
       "      <td>petter matteis love tears eyes money visually ...</td>\n",
       "      <td>positive</td>\n",
       "    </tr>\n",
       "  </tbody>\n",
       "</table>\n",
       "</div>"
      ],
      "text/plain": [
       "                                              review sentiment\n",
       "0   reviewers mentioned   watching  episode  hook...  positive\n",
       "1  wonderful little production filming technique ...  positive\n",
       "2  thought  wonderful spend tears eyes summer wee...  positive\n",
       "3  basically theres family  little jake thinks th...  negative\n",
       "4  petter matteis love tears eyes money visually ...  positive"
      ]
     },
     "execution_count": 163,
     "metadata": {},
     "output_type": "execute_result"
    }
   ],
   "source": [
    "df['review']=df['review'].apply(remove_punc)\n",
    "df.head()"
   ]
  },
  {
   "cell_type": "markdown",
   "metadata": {},
   "source": [
    "### 1.2.9 **Lematización**\n",
    "La lematización reduce las palabras a su forma base o raíz, conocida como lema. A diferencia del stemming, que se limita a recortar las terminaciones de las palabras, la lematización tiene en cuenta el contexto y el análisis morfológico de las palabras, garantizando que éstas se transformen en formas base significativas. Por ejemplo, «running» se convierte en «run» y «better» en «good».\n",
    "\n",
    " Este proceso ayuda a normalizar las palabras, mejorando la precisión del análisis de textos al agrupar las distintas formas flexionadas de una palabra en un único elemento. La lematización es esencial para tareas como la clasificación de textos, el análisis de sentimientos y la recuperación de información, ya que mejora la calidad de las características extraídas del texto."
   ]
  },
  {
   "cell_type": "code",
   "execution_count": 164,
   "metadata": {},
   "outputs": [
    {
     "name": "stdout",
     "output_type": "stream",
     "text": [
      "El modelo 'en_core_web_sm' ya está instalado.\n"
     ]
    }
   ],
   "source": [
    "import spacy\n",
    "import subprocess\n",
    "import sys\n",
    "\n",
    "# Nombre del modelo específico que deseas instalar\n",
    "model_name = 'en_core_web_sm'\n",
    "\n",
    "# Función para instalar el modelo de spaCy\n",
    "def install_spacy_model(model_name):\n",
    "    try:\n",
    "        # Intentar cargar el modelo\n",
    "        spacy.load(model_name)\n",
    "        print(f\"El modelo '{model_name}' ya está instalado.\")\n",
    "    except OSError:\n",
    "        # Si el modelo no se encuentra, instalarlo\n",
    "        print(f\"El modelo '{model_name}' no está instalado. Instalando...\")\n",
    "        subprocess.check_call([sys.executable, \"-m\", \"spacy\", \"download\", model_name])\n",
    "        print(f\"Modelo '{model_name}' instalado correctamente.\")\n",
    "\n",
    "# Instalar el modelo\n",
    "install_spacy_model(model_name)\n",
    "\n",
    "# Ahora puedes cargar el modelo y usarlo\n",
    "nlp = spacy.load(model_name)\n",
    "\n",
    "# Ejemplo de uso\n",
    "def lemmatize_text(df, column_name):\n",
    "    # Función para lematizar un texto completo\n",
    "    def lemmatize_sentence(text):\n",
    "        doc = nlp(text)\n",
    "        # Une las palabras lematizadas\n",
    "        return \" \".join([token.lemma_ for token in doc])\n",
    "\n",
    "    # Aplica la lematización a la columna del DataFrame\n",
    "    df[column_name] = df[column_name].apply(lemmatize_sentence)\n",
    "    \n",
    "    return df\n"
   ]
  },
  {
   "cell_type": "code",
   "execution_count": 165,
   "metadata": {},
   "outputs": [
    {
     "data": {
      "text/html": [
       "<div>\n",
       "<style scoped>\n",
       "    .dataframe tbody tr th:only-of-type {\n",
       "        vertical-align: middle;\n",
       "    }\n",
       "\n",
       "    .dataframe tbody tr th {\n",
       "        vertical-align: top;\n",
       "    }\n",
       "\n",
       "    .dataframe thead th {\n",
       "        text-align: right;\n",
       "    }\n",
       "</style>\n",
       "<table border=\"1\" class=\"dataframe\">\n",
       "  <thead>\n",
       "    <tr style=\"text-align: right;\">\n",
       "      <th></th>\n",
       "      <th>review</th>\n",
       "      <th>sentiment</th>\n",
       "    </tr>\n",
       "  </thead>\n",
       "  <tbody>\n",
       "    <tr>\n",
       "      <th>0</th>\n",
       "      <td>reviewer mention    watch   episode   hook  ...</td>\n",
       "      <td>positive</td>\n",
       "    </tr>\n",
       "    <tr>\n",
       "      <th>1</th>\n",
       "      <td>wonderful little production filming technique ...</td>\n",
       "      <td>positive</td>\n",
       "    </tr>\n",
       "    <tr>\n",
       "      <th>2</th>\n",
       "      <td>think   wonderful spend tear eye summer weeken...</td>\n",
       "      <td>positive</td>\n",
       "    </tr>\n",
       "    <tr>\n",
       "      <th>3</th>\n",
       "      <td>basically there s family   little jake think t...</td>\n",
       "      <td>negative</td>\n",
       "    </tr>\n",
       "    <tr>\n",
       "      <th>4</th>\n",
       "      <td>petter matteis love tear eye money visually st...</td>\n",
       "      <td>positive</td>\n",
       "    </tr>\n",
       "  </tbody>\n",
       "</table>\n",
       "</div>"
      ],
      "text/plain": [
       "                                              review sentiment\n",
       "0    reviewer mention    watch   episode   hook  ...  positive\n",
       "1  wonderful little production filming technique ...  positive\n",
       "2  think   wonderful spend tear eye summer weeken...  positive\n",
       "3  basically there s family   little jake think t...  negative\n",
       "4  petter matteis love tear eye money visually st...  positive"
      ]
     },
     "execution_count": 165,
     "metadata": {},
     "output_type": "execute_result"
    }
   ],
   "source": [
    "# Aplica la función de lematización a la columna 'review'\n",
    "df = lemmatize_text(df, 'review')\n",
    "df.head()"
   ]
  },
  {
   "cell_type": "markdown",
   "metadata": {},
   "source": [
    "### 2. **Preparación del modelo para ML**"
   ]
  },
  {
   "cell_type": "code",
   "execution_count": 166,
   "metadata": {},
   "outputs": [
    {
     "data": {
      "text/html": [
       "<div>\n",
       "<style scoped>\n",
       "    .dataframe tbody tr th:only-of-type {\n",
       "        vertical-align: middle;\n",
       "    }\n",
       "\n",
       "    .dataframe tbody tr th {\n",
       "        vertical-align: top;\n",
       "    }\n",
       "\n",
       "    .dataframe thead th {\n",
       "        text-align: right;\n",
       "    }\n",
       "</style>\n",
       "<table border=\"1\" class=\"dataframe\">\n",
       "  <thead>\n",
       "    <tr style=\"text-align: right;\">\n",
       "      <th></th>\n",
       "      <th>review</th>\n",
       "      <th>sentiment</th>\n",
       "    </tr>\n",
       "  </thead>\n",
       "  <tbody>\n",
       "    <tr>\n",
       "      <th>0</th>\n",
       "      <td>reviewer mention    watch   episode   hook  ...</td>\n",
       "      <td>1</td>\n",
       "    </tr>\n",
       "    <tr>\n",
       "      <th>1</th>\n",
       "      <td>wonderful little production filming technique ...</td>\n",
       "      <td>1</td>\n",
       "    </tr>\n",
       "    <tr>\n",
       "      <th>2</th>\n",
       "      <td>think   wonderful spend tear eye summer weeken...</td>\n",
       "      <td>1</td>\n",
       "    </tr>\n",
       "    <tr>\n",
       "      <th>3</th>\n",
       "      <td>basically there s family   little jake think t...</td>\n",
       "      <td>0</td>\n",
       "    </tr>\n",
       "    <tr>\n",
       "      <th>4</th>\n",
       "      <td>petter matteis love tear eye money visually st...</td>\n",
       "      <td>1</td>\n",
       "    </tr>\n",
       "  </tbody>\n",
       "</table>\n",
       "</div>"
      ],
      "text/plain": [
       "                                              review  sentiment\n",
       "0    reviewer mention    watch   episode   hook  ...          1\n",
       "1  wonderful little production filming technique ...          1\n",
       "2  think   wonderful spend tear eye summer weeken...          1\n",
       "3  basically there s family   little jake think t...          0\n",
       "4  petter matteis love tear eye money visually st...          1"
      ]
     },
     "execution_count": 166,
     "metadata": {},
     "output_type": "execute_result"
    }
   ],
   "source": [
    "from sklearn.preprocessing import LabelEncoder\n",
    "\n",
    "encoder = LabelEncoder()\n",
    "df['sentiment'] = encoder.fit_transform(df['sentiment'])\n",
    "df.head()"
   ]
  },
  {
   "cell_type": "code",
   "execution_count": 167,
   "metadata": {},
   "outputs": [],
   "source": [
    "# Ruta del directorio\n",
    "directorio = r'C:\\Proyectos\\movies-proyect\\data\\preprocessed_data'\n",
    "\n",
    "# Nombre del archivo CSV\n",
    "nombre_archivo = 'pre_processed.csv'\n",
    "\n",
    "# Guardar el DataFrame en formato CSV\n",
    "df.to_csv(os.path.join(directorio, nombre_archivo), index=False)"
   ]
  },
  {
   "cell_type": "code",
   "execution_count": 168,
   "metadata": {},
   "outputs": [
    {
     "data": {
      "text/html": [
       "<div>\n",
       "<style scoped>\n",
       "    .dataframe tbody tr th:only-of-type {\n",
       "        vertical-align: middle;\n",
       "    }\n",
       "\n",
       "    .dataframe tbody tr th {\n",
       "        vertical-align: top;\n",
       "    }\n",
       "\n",
       "    .dataframe thead th {\n",
       "        text-align: right;\n",
       "    }\n",
       "</style>\n",
       "<table border=\"1\" class=\"dataframe\">\n",
       "  <thead>\n",
       "    <tr style=\"text-align: right;\">\n",
       "      <th></th>\n",
       "      <th>review</th>\n",
       "    </tr>\n",
       "  </thead>\n",
       "  <tbody>\n",
       "    <tr>\n",
       "      <th>0</th>\n",
       "      <td>reviewer mention    watch   episode   hook  ...</td>\n",
       "    </tr>\n",
       "    <tr>\n",
       "      <th>1</th>\n",
       "      <td>wonderful little production filming technique ...</td>\n",
       "    </tr>\n",
       "    <tr>\n",
       "      <th>2</th>\n",
       "      <td>think   wonderful spend tear eye summer weeken...</td>\n",
       "    </tr>\n",
       "    <tr>\n",
       "      <th>3</th>\n",
       "      <td>basically there s family   little jake think t...</td>\n",
       "    </tr>\n",
       "    <tr>\n",
       "      <th>4</th>\n",
       "      <td>petter matteis love tear eye money visually st...</td>\n",
       "    </tr>\n",
       "    <tr>\n",
       "      <th>...</th>\n",
       "      <td>...</td>\n",
       "    </tr>\n",
       "    <tr>\n",
       "      <th>14995</th>\n",
       "      <td>bobcat goldthwait   commend attempt something ...</td>\n",
       "    </tr>\n",
       "    <tr>\n",
       "      <th>14996</th>\n",
       "      <td>since day clarissa explain all   I ve crush...</td>\n",
       "    </tr>\n",
       "    <tr>\n",
       "      <th>14997</th>\n",
       "      <td>travel couple horton hamiltonstumble onto town...</td>\n",
       "    </tr>\n",
       "    <tr>\n",
       "      <th>14998</th>\n",
       "      <td>film deeply disappointing    wender   displa...</td>\n",
       "    </tr>\n",
       "    <tr>\n",
       "      <th>14999</th>\n",
       "      <td>revelation   lana turner dance ability though ...</td>\n",
       "    </tr>\n",
       "  </tbody>\n",
       "</table>\n",
       "<p>14961 rows × 1 columns</p>\n",
       "</div>"
      ],
      "text/plain": [
       "                                                  review\n",
       "0        reviewer mention    watch   episode   hook  ...\n",
       "1      wonderful little production filming technique ...\n",
       "2      think   wonderful spend tear eye summer weeken...\n",
       "3      basically there s family   little jake think t...\n",
       "4      petter matteis love tear eye money visually st...\n",
       "...                                                  ...\n",
       "14995  bobcat goldthwait   commend attempt something ...\n",
       "14996     since day clarissa explain all   I ve crush...\n",
       "14997  travel couple horton hamiltonstumble onto town...\n",
       "14998    film deeply disappointing    wender   displa...\n",
       "14999  revelation   lana turner dance ability though ...\n",
       "\n",
       "[14961 rows x 1 columns]"
      ]
     },
     "execution_count": 168,
     "metadata": {},
     "output_type": "execute_result"
    }
   ],
   "source": [
    "X = df.iloc[:,0:1]\n",
    "y = df['sentiment']\n",
    "X"
   ]
  },
  {
   "cell_type": "code",
   "execution_count": 169,
   "metadata": {},
   "outputs": [
    {
     "data": {
      "text/plain": [
       "(10472, 1)"
      ]
     },
     "execution_count": 169,
     "metadata": {},
     "output_type": "execute_result"
    }
   ],
   "source": [
    "from sklearn.model_selection import train_test_split\n",
    "\n",
    "X_train,X_test,y_train,y_test = train_test_split(X,y,test_size=0.3,random_state=1)\n",
    "X_train.shape"
   ]
  },
  {
   "cell_type": "code",
   "execution_count": 170,
   "metadata": {},
   "outputs": [],
   "source": [
    "# Definir los directorios para guardar los archivos CSV\n",
    "directorios = {\n",
    "    'X_train': r'C:\\Proyectos\\movies-proyect\\data\\train_data',\n",
    "    'X_test': r'C:\\Proyectos\\movies-proyect\\data\\test_data',\n",
    "    'y_train': r'C:\\Proyectos\\movies-proyect\\data\\train_data',\n",
    "    'y_test': r'C:\\Proyectos\\movies-proyect\\data\\test_data'\n",
    "}\n",
    "\n",
    "# Asegurarse de que los directorios existen\n",
    "for directorio in directorios.values():\n",
    "    os.makedirs(directorio, exist_ok=True)\n",
    "\n",
    "# Guardar los DataFrames en formato CSV en los respectivos directorios\n",
    "X_train.to_csv(os.path.join(directorios[\"X_train\"], 'X_train.csv'), index=False)\n",
    "X_test.to_csv(os.path.join(directorios[\"X_test\"], 'X_test.csv'), index=False)\n",
    "y_train.to_csv(os.path.join(directorios[\"y_train\"], 'y_train.csv'), index=False)\n",
    "y_test.to_csv(os.path.join(directorios[\"y_test\"], 'y_test.csv'), index=False)"
   ]
  },
  {
   "cell_type": "markdown",
   "metadata": {},
   "source": [
    "### 2.1 **Uso de TF-IDF (Transformación de palabras a numeros)** "
   ]
  },
  {
   "cell_type": "code",
   "execution_count": 171,
   "metadata": {},
   "outputs": [],
   "source": [
    "from sklearn.feature_extraction.text import TfidfVectorizer\n",
    "from sklearn.ensemble import RandomForestClassifier\n",
    "from sklearn.metrics import accuracy_score,confusion_matrix,classification_report\n",
    "\n",
    "tfidf = TfidfVectorizer(min_df=2)\n",
    "\n",
    "X_train_tfidf = tfidf.fit_transform(X_train['review']).toarray()\n",
    "X_test_tfidf = tfidf.transform(X_test['review'])\n",
    "\n"
   ]
  },
  {
   "cell_type": "markdown",
   "metadata": {},
   "source": [
    "## 3. **Entrenamiento del modelo**\n",
    "En un problema de clasificación con **Random Forest**:\n",
    "\n",
    "1. Entrenamiento:\n",
    "    - Se entrena el modelo usando el conjunto de datos de entrenamiento, creando múltiples árboles con diferentes muestras de datos y características.\n",
    "\n",
    "2. Predicción:\n",
    "    - Para predecir la clase de una nueva muestra, cada árbol del bosque hace una predicción, y la clase con la mayoría de los votos es la predicción final del modelo.\n",
    "\n",
    "3. Evaluación:\n",
    "    - Se evalúa el rendimiento del modelo utilizando métricas como la precisión, el recall y la puntuación F1 para ver cómo se desempeña en datos no vistos."
   ]
  },
  {
   "cell_type": "code",
   "execution_count": 172,
   "metadata": {},
   "outputs": [
    {
     "name": "stdout",
     "output_type": "stream",
     "text": [
      "0.8389396302071731\n",
      "              precision    recall  f1-score   support\n",
      "\n",
      "           0       0.82      0.86      0.84      2247\n",
      "           1       0.85      0.82      0.84      2242\n",
      "\n",
      "    accuracy                           0.84      4489\n",
      "   macro avg       0.84      0.84      0.84      4489\n",
      "weighted avg       0.84      0.84      0.84      4489\n",
      "\n"
     ]
    }
   ],
   "source": [
    "rf = RandomForestClassifier()\n",
    "\n",
    "rf.fit(X_train_tfidf,y_train)\n",
    "y_pred = rf.predict(X_test_tfidf)\n",
    "\n",
    "print(accuracy_score(y_test,y_pred))\n",
    "print(classification_report(y_test, y_pred))"
   ]
  },
  {
   "cell_type": "code",
   "execution_count": 173,
   "metadata": {},
   "outputs": [
    {
     "name": "stdout",
     "output_type": "stream",
     "text": [
      "Archivo guardado como: analyze_results1.py\n"
     ]
    }
   ],
   "source": [
    "from nbconvert import PythonExporter\n",
    "import nbformat\n",
    "import os\n",
    "\n",
    "def obtener_nombre_archivo_unico(ruta_destino, nombre_base):\n",
    "    \"\"\"Genera un nombre de archivo único en la carpeta especificada.\"\"\"\n",
    "    i = 1\n",
    "    nuevo_nombre = f'{nombre_base}.py'\n",
    "    while os.path.exists(os.path.join(ruta_destino, nuevo_nombre)):\n",
    "        nuevo_nombre = f'{nombre_base}{i}.py'\n",
    "        i += 1\n",
    "    return nuevo_nombre\n",
    "\n",
    "# Especifica la ruta de la carpeta donde deseas guardar el archivo\n",
    "ruta_destino = r'C:\\Proyectos\\movies-proyect\\training\\tests'\n",
    "nombre_base = 'analyze_results'\n",
    "\n",
    "# Asegúrate de que la carpeta existe\n",
    "if not os.path.exists(ruta_destino):\n",
    "    os.makedirs(ruta_destino)\n",
    "\n",
    "# Lee el archivo .ipynb\n",
    "with open(f'{nombre_base}.ipynb', 'r') as f:\n",
    "    notebook_content = nbformat.read(f, as_version=4)\n",
    "\n",
    "# Convierte el contenido del notebook a script Python\n",
    "exporter = PythonExporter()\n",
    "script, _ = exporter.from_notebook_node(notebook_content)\n",
    "\n",
    "# Genera un nombre de archivo único\n",
    "nombre_archivo = obtener_nombre_archivo_unico(ruta_destino, nombre_base)\n",
    "\n",
    "# Guarda el script en la carpeta especificada\n",
    "with open(os.path.join(ruta_destino, nombre_archivo), 'w') as f:\n",
    "    f.write(script)\n",
    "\n",
    "print(f\"Archivo guardado como: {nombre_archivo}\")"
   ]
  }
 ],
 "metadata": {
  "kernelspec": {
   "display_name": "ML-Movies",
   "language": "python",
   "name": "python3"
  },
  "language_info": {
   "codemirror_mode": {
    "name": "ipython",
    "version": 3
   },
   "file_extension": ".py",
   "mimetype": "text/x-python",
   "name": "python",
   "nbconvert_exporter": "python",
   "pygments_lexer": "ipython3",
   "version": "3.12.5"
  }
 },
 "nbformat": 4,
 "nbformat_minor": 2
}
