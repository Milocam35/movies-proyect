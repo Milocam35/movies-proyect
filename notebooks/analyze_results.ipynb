{
 "cells": [
  {
   "cell_type": "markdown",
   "metadata": {},
   "source": [
    "# **NLP (Natural Language Processing) Proyecto para ML-OPS**"
   ]
  },
  {
   "cell_type": "markdown",
   "metadata": {},
   "source": [
    "### 1.1 **Instalacion de API de kaggle de 50k reviews de peliculas**"
   ]
  },
  {
   "cell_type": "code",
   "execution_count": 1,
   "metadata": {},
   "outputs": [],
   "source": [
    "import numpy as np # linear algebra\n",
    "import pandas as pd # data processing, CSV file I/O (e.g. pd.read_csv)"
   ]
  },
  {
   "cell_type": "code",
   "execution_count": 2,
   "metadata": {},
   "outputs": [
    {
     "name": "stdout",
     "output_type": "stream",
     "text": [
      "Dataset URL: https://www.kaggle.com/datasets/lakshmi25npathi/imdb-dataset-of-50k-movie-reviews\n",
      "No se encontró ninguna carpeta en raw_data\n"
     ]
    }
   ],
   "source": [
    "#Authenticate with kaggle API\n",
    "import os\n",
    "import kaggle\n",
    "import shutil\n",
    "\n",
    "def download_and_extract_kaggle_dataset():\n",
    "    dataset_name = 'lakshmi25npathi/imdb-dataset-of-50k-movie-reviews'\n",
    "    download_path = r'C:\\Proyectos\\movies-proyect\\data\\raw_data'\n",
    "\n",
    "    # Descargar y descomprimir el dataset\n",
    "    kaggle.api.authenticate()\n",
    "    kaggle.api.dataset_download_files(dataset_name, path=download_path, unzip=True)\n",
    "    kaggle.api.dataset_metadata(dataset_name, path=download_path)\n",
    "\n",
    "    # Listar las carpetas dentro de `raw_data`\n",
    "    directories = [d for d in os.listdir(download_path) if os.path.isdir(os.path.join(download_path, d))]\n",
    "\n",
    "    # Si hay una sola carpeta creada, la usamos\n",
    "    if directories:\n",
    "        dataset_dir = os.path.join(download_path, directories[0])\n",
    "        \n",
    "        # Mover los archivos a `raw_data`\n",
    "        for filename in os.listdir(dataset_dir):\n",
    "            shutil.move(os.path.join(dataset_dir, filename), download_path)\n",
    "\n",
    "        # Eliminar la carpeta vacía\n",
    "        shutil.rmtree(dataset_dir)\n",
    "    else:\n",
    "        print(\"No se encontró ninguna carpeta en raw_data\")\n",
    "\n",
    "if __name__ == \"__main__\":\n",
    "    download_and_extract_kaggle_dataset()\n"
   ]
  },
  {
   "cell_type": "code",
   "execution_count": 10,
   "metadata": {},
   "outputs": [
    {
     "data": {
      "text/html": [
       "<div>\n",
       "<style scoped>\n",
       "    .dataframe tbody tr th:only-of-type {\n",
       "        vertical-align: middle;\n",
       "    }\n",
       "\n",
       "    .dataframe tbody tr th {\n",
       "        vertical-align: top;\n",
       "    }\n",
       "\n",
       "    .dataframe thead th {\n",
       "        text-align: right;\n",
       "    }\n",
       "</style>\n",
       "<table border=\"1\" class=\"dataframe\">\n",
       "  <thead>\n",
       "    <tr style=\"text-align: right;\">\n",
       "      <th></th>\n",
       "      <th>review</th>\n",
       "      <th>sentiment</th>\n",
       "    </tr>\n",
       "  </thead>\n",
       "  <tbody>\n",
       "    <tr>\n",
       "      <th>0</th>\n",
       "      <td>One of the other reviewers has mentioned that ...</td>\n",
       "      <td>positive</td>\n",
       "    </tr>\n",
       "    <tr>\n",
       "      <th>1</th>\n",
       "      <td>A wonderful little production. &lt;br /&gt;&lt;br /&gt;The...</td>\n",
       "      <td>positive</td>\n",
       "    </tr>\n",
       "    <tr>\n",
       "      <th>2</th>\n",
       "      <td>I thought this was a wonderful way to spend ti...</td>\n",
       "      <td>positive</td>\n",
       "    </tr>\n",
       "    <tr>\n",
       "      <th>3</th>\n",
       "      <td>Basically there's a family where a little boy ...</td>\n",
       "      <td>negative</td>\n",
       "    </tr>\n",
       "    <tr>\n",
       "      <th>4</th>\n",
       "      <td>Petter Mattei's \"Love in the Time of Money\" is...</td>\n",
       "      <td>positive</td>\n",
       "    </tr>\n",
       "  </tbody>\n",
       "</table>\n",
       "</div>"
      ],
      "text/plain": [
       "                                              review sentiment\n",
       "0  One of the other reviewers has mentioned that ...  positive\n",
       "1  A wonderful little production. <br /><br />The...  positive\n",
       "2  I thought this was a wonderful way to spend ti...  positive\n",
       "3  Basically there's a family where a little boy ...  negative\n",
       "4  Petter Mattei's \"Love in the Time of Money\" is...  positive"
      ]
     },
     "execution_count": 10,
     "metadata": {},
     "output_type": "execute_result"
    }
   ],
   "source": [
    "#descargar csv del dataset instalado\n",
    "df = pd.read_csv(r'C:\\Proyectos\\movies-proyect\\data\\raw_data\\IMDB Dataset.csv')\n",
    "df.head()"
   ]
  },
  {
   "cell_type": "code",
   "execution_count": 12,
   "metadata": {},
   "outputs": [
    {
     "data": {
      "text/plain": [
       "(50000, 2)"
      ]
     },
     "execution_count": 12,
     "metadata": {},
     "output_type": "execute_result"
    }
   ],
   "source": [
    "#asegurarnos de el tamaño del dataset, en este caso debe ser de 50000 filas x 2 columnas\n",
    "df.shape"
   ]
  },
  {
   "cell_type": "markdown",
   "metadata": {},
   "source": [
    "### 1.2 **Preprocesamiento de texto**\n",
    "\n",
    "El preprocesamiento es crucial para limpiar y normalizar los datos de texto antes del análisis. Este paso implica varias subtareas:\n",
    "\n",
    "- Tokenización: Dividir el texto en palabras individuales o tokens. Por ejemplo, «¡Hola mundo!» se convierte en - -[«Hola», «mundo», «!»].\n",
    "- Minúsculas: Conversión de todos los caracteres a minúsculas para garantizar la uniformidad (por ejemplo, «Hola» y «hola» reciben el mismo tratamiento).\n",
    "\n",
    "- Eliminación de signos de puntuación: Eliminación de los signos de puntuación, ya que a menudo no contribuyen al significado.\n",
    "Eliminación de palabras vacías: Eliminación de palabras comunes como «y», «el», «es», que no aportan un significado significativo.\n",
    "\n",
    "- Lematización: Conversión de palabras a su forma básica o raíz (por ejemplo, «correr» se convierte en «correr»).\n",
    "Reducción: Similar a la lematización, pero suele ser más agresiva. Reduce las palabras a su raíz (por ejemplo, «running» se convierte en «run», «runner» en «run»).\n",
    "\n",
    "Traducción realizada con la versión gratuita del traductor DeepL.com"
   ]
  },
  {
   "cell_type": "markdown",
   "metadata": {},
   "source": [
    "### 1.2.1 Minusculas"
   ]
  },
  {
   "cell_type": "code",
   "execution_count": 13,
   "metadata": {},
   "outputs": [
    {
     "data": {
      "text/html": [
       "<div>\n",
       "<style scoped>\n",
       "    .dataframe tbody tr th:only-of-type {\n",
       "        vertical-align: middle;\n",
       "    }\n",
       "\n",
       "    .dataframe tbody tr th {\n",
       "        vertical-align: top;\n",
       "    }\n",
       "\n",
       "    .dataframe thead th {\n",
       "        text-align: right;\n",
       "    }\n",
       "</style>\n",
       "<table border=\"1\" class=\"dataframe\">\n",
       "  <thead>\n",
       "    <tr style=\"text-align: right;\">\n",
       "      <th></th>\n",
       "      <th>review</th>\n",
       "      <th>sentiment</th>\n",
       "    </tr>\n",
       "  </thead>\n",
       "  <tbody>\n",
       "    <tr>\n",
       "      <th>0</th>\n",
       "      <td>one of the other reviewers has mentioned that ...</td>\n",
       "      <td>positive</td>\n",
       "    </tr>\n",
       "    <tr>\n",
       "      <th>1</th>\n",
       "      <td>a wonderful little production. &lt;br /&gt;&lt;br /&gt;the...</td>\n",
       "      <td>positive</td>\n",
       "    </tr>\n",
       "    <tr>\n",
       "      <th>2</th>\n",
       "      <td>i thought this was a wonderful way to spend ti...</td>\n",
       "      <td>positive</td>\n",
       "    </tr>\n",
       "    <tr>\n",
       "      <th>3</th>\n",
       "      <td>basically there's a family where a little boy ...</td>\n",
       "      <td>negative</td>\n",
       "    </tr>\n",
       "    <tr>\n",
       "      <th>4</th>\n",
       "      <td>petter mattei's \"love in the time of money\" is...</td>\n",
       "      <td>positive</td>\n",
       "    </tr>\n",
       "  </tbody>\n",
       "</table>\n",
       "</div>"
      ],
      "text/plain": [
       "                                              review sentiment\n",
       "0  one of the other reviewers has mentioned that ...  positive\n",
       "1  a wonderful little production. <br /><br />the...  positive\n",
       "2  i thought this was a wonderful way to spend ti...  positive\n",
       "3  basically there's a family where a little boy ...  negative\n",
       "4  petter mattei's \"love in the time of money\" is...  positive"
      ]
     },
     "execution_count": 13,
     "metadata": {},
     "output_type": "execute_result"
    }
   ],
   "source": [
    "#usar funcion .lower de python para pasar todas las palabras a mayusculas en el dataset\n",
    "df['review'] = df['review'].str.lower()\n",
    "df.head()"
   ]
  },
  {
   "cell_type": "markdown",
   "metadata": {},
   "source": [
    "### 1.2.2 **Remover cualquier etiquet html del dataset**"
   ]
  },
  {
   "cell_type": "code",
   "execution_count": null,
   "metadata": {},
   "outputs": [],
   "source": [
    "#Importamos libreria para expresiones regulares\n",
    "import re\n",
    "def remove_html_tags(text):\n",
    "    pattern = re.compile('<.*?>')\n",
    "    return pattern.sub('', text)"
   ]
  }
 ],
 "metadata": {
  "kernelspec": {
   "display_name": "ML-Movies",
   "language": "python",
   "name": "python3"
  },
  "language_info": {
   "codemirror_mode": {
    "name": "ipython",
    "version": 3
   },
   "file_extension": ".py",
   "mimetype": "text/x-python",
   "name": "python",
   "nbconvert_exporter": "python",
   "pygments_lexer": "ipython3",
   "version": "3.12.5"
  }
 },
 "nbformat": 4,
 "nbformat_minor": 2
}
